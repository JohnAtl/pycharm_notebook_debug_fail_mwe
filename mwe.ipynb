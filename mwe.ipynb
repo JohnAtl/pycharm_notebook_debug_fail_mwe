{
 "cells": [
  {
   "cell_type": "code",
   "id": "initial_id",
   "metadata": {
    "collapsed": true,
    "ExecuteTime": {
     "end_time": "2025-08-19T17:10:26.805677Z",
     "start_time": "2025-08-19T17:10:26.802207Z"
    }
   },
   "source": "from vendors import load",
   "outputs": [],
   "execution_count": 1
  },
  {
   "metadata": {
    "jupyter": {
     "is_executing": true
    },
    "ExecuteTime": {
     "start_time": "2025-08-19T17:11:36.546172Z"
    }
   },
   "cell_type": "code",
   "source": "q=load(\"\",vendor=\"dummy\")",
   "id": "8b8c76d64b140484",
   "outputs": [
    {
     "name": "stderr",
     "output_type": "stream",
     "text": [
      "Traceback (most recent call last):\n",
      "  File \"/var/home/john/Apps/pycharm/pycharm-2025.2.0.1/plugins/python-ce/helpers/pydev/_pydevd_bundle/pydevd_comm.py\", line 736, in make_thread_stack_str\n",
      "    append('file=\"%s\" line=\"%s\">' % (make_valid_xml_value(my_file), lineno))\n",
      "                                     ^^^^^^^^^^^^^^^^^^^^^^^^^^^^^\n",
      "  File \"/var/home/john/Apps/pycharm/pycharm-2025.2.0.1/plugins/python-ce/helpers/pydev/_pydevd_bundle/pydevd_xml.py\", line 36, in make_valid_xml_value\n",
      "    return s.replace(\"&\", \"&amp;\").replace('<', '&lt;').replace('>', '&gt;').replace('\"', '&quot;')\n",
      "           ^^^^^^^^^\n",
      "AttributeError: 'tuple' object has no attribute 'replace'\n"
     ]
    }
   ],
   "execution_count": null
  }
 ],
 "metadata": {
  "kernelspec": {
   "display_name": "Python 3",
   "language": "python",
   "name": "python3"
  },
  "language_info": {
   "codemirror_mode": {
    "name": "ipython",
    "version": 2
   },
   "file_extension": ".py",
   "mimetype": "text/x-python",
   "name": "python",
   "nbconvert_exporter": "python",
   "pygments_lexer": "ipython2",
   "version": "2.7.6"
  }
 },
 "nbformat": 4,
 "nbformat_minor": 5
}
